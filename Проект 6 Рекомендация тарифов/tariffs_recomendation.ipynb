{
 "cells": [
  {
   "cell_type": "markdown",
   "metadata": {},
   "source": [
    "# Рекомендация тарифов"
   ]
  },
  {
   "cell_type": "markdown",
   "metadata": {},
   "source": [
    "## ОГЛАВЛЕНИЕ\n",
    "\n",
    "1. ПОСТАНОВКА ЗАДАЧИ\n",
    "2. Открытие и изучение общей информации\n",
    "3. Разбиение данных на выборки\n",
    "4. Исследование моделей машинного обучения\n",
    "* 4.1  Решающее дерево\n",
    "* 4.2  Случайный лес\n",
    "* 4.3  Логистическая регрессия\n",
    "5. Проверка модели на тестовой выборке\n",
    "6. Проверка модели на адекватность\n",
    "7. Общий вывод по проекту"
   ]
  },
  {
   "cell_type": "markdown",
   "metadata": {},
   "source": [
    "## 1 ПОСТАНОВКА ЗАДАЧИ\n",
    "\n",
    "В вашем распоряжении данные о поведении клиентов, которые уже перешли на эти тарифы (из проекта курса «Статистический анализ данных»). Нужно построить модель для задачи классификации, которая выберет подходящий тариф. Предобработка данных не понадобится — вы её уже сделали.\n",
    "\n",
    "Постройте модель с максимально большим значением *accuracy*. Чтобы сдать проект успешно, нужно довести долю правильных ответов по крайней мере до 0.75. Проверьте *accuracy* на тестовой выборке самостоятельно.\n",
    "\n",
    "**Описание данных**\n",
    "\n",
    "Каждый объект в наборе данных — это информация о поведении одного пользователя за месяц. Известно:\n",
    "* *сalls* — количество звонков,\n",
    "* *minutes* — суммарная длительность звонков в минутах,\n",
    "* *messages* — количество sms-сообщений,\n",
    "* *mb_used* — израсходованный интернет-трафик в Мб,\n",
    "* *is_ultra* — каким тарифом пользовался в течение месяца («Ультра» — 1, «Смарт» — 0)."
   ]
  },
  {
   "cell_type": "markdown",
   "metadata": {},
   "source": [
    "## 2 Открытие и изучение общей информации"
   ]
  },
  {
   "cell_type": "code",
   "execution_count": 1,
   "metadata": {
    "scrolled": false
   },
   "outputs": [],
   "source": [
    "import pandas as pd\n",
    "from IPython.display import display #импортируем метод дисплей для красивого вывода таблиц (не применяя print)\n",
    "pd.set_option('display.max_columns', None) #реализуем возможность вывода всех столбцов на экран\n",
    "from sklearn.tree import DecisionTreeClassifier #решающее дерево\n",
    "from sklearn.model_selection import train_test_split # деление на 2 выборки\n",
    "from sklearn.ensemble import RandomForestClassifier # случайный лес\n",
    "from sklearn.linear_model import LogisticRegression # логистическая регрессия\n",
    "from sklearn.metrics import accuracy_score # проверка качества"
   ]
  },
  {
   "cell_type": "code",
   "execution_count": 3,
   "metadata": {},
   "outputs": [
    {
     "name": "stdout",
     "output_type": "stream",
     "text": [
      "<class 'pandas.core.frame.DataFrame'>\n",
      "RangeIndex: 3214 entries, 0 to 3213\n",
      "Data columns (total 5 columns):\n",
      " #   Column    Non-Null Count  Dtype  \n",
      "---  ------    --------------  -----  \n",
      " 0   calls     3214 non-null   float64\n",
      " 1   minutes   3214 non-null   float64\n",
      " 2   messages  3214 non-null   float64\n",
      " 3   mb_used   3214 non-null   float64\n",
      " 4   is_ultra  3214 non-null   int64  \n",
      "dtypes: float64(4), int64(1)\n",
      "memory usage: 125.7 KB\n",
      "None\n"
     ]
    },
    {
     "data": {
      "text/html": [
       "<div>\n",
       "<style scoped>\n",
       "    .dataframe tbody tr th:only-of-type {\n",
       "        vertical-align: middle;\n",
       "    }\n",
       "\n",
       "    .dataframe tbody tr th {\n",
       "        vertical-align: top;\n",
       "    }\n",
       "\n",
       "    .dataframe thead th {\n",
       "        text-align: right;\n",
       "    }\n",
       "</style>\n",
       "<table border=\"1\" class=\"dataframe\">\n",
       "  <thead>\n",
       "    <tr style=\"text-align: right;\">\n",
       "      <th></th>\n",
       "      <th>calls</th>\n",
       "      <th>minutes</th>\n",
       "      <th>messages</th>\n",
       "      <th>mb_used</th>\n",
       "      <th>is_ultra</th>\n",
       "    </tr>\n",
       "  </thead>\n",
       "  <tbody>\n",
       "    <tr>\n",
       "      <th>0</th>\n",
       "      <td>40.0</td>\n",
       "      <td>311.90</td>\n",
       "      <td>83.0</td>\n",
       "      <td>19915.42</td>\n",
       "      <td>0</td>\n",
       "    </tr>\n",
       "    <tr>\n",
       "      <th>1</th>\n",
       "      <td>85.0</td>\n",
       "      <td>516.75</td>\n",
       "      <td>56.0</td>\n",
       "      <td>22696.96</td>\n",
       "      <td>0</td>\n",
       "    </tr>\n",
       "    <tr>\n",
       "      <th>2</th>\n",
       "      <td>77.0</td>\n",
       "      <td>467.66</td>\n",
       "      <td>86.0</td>\n",
       "      <td>21060.45</td>\n",
       "      <td>0</td>\n",
       "    </tr>\n",
       "    <tr>\n",
       "      <th>3</th>\n",
       "      <td>106.0</td>\n",
       "      <td>745.53</td>\n",
       "      <td>81.0</td>\n",
       "      <td>8437.39</td>\n",
       "      <td>1</td>\n",
       "    </tr>\n",
       "    <tr>\n",
       "      <th>4</th>\n",
       "      <td>66.0</td>\n",
       "      <td>418.74</td>\n",
       "      <td>1.0</td>\n",
       "      <td>14502.75</td>\n",
       "      <td>0</td>\n",
       "    </tr>\n",
       "  </tbody>\n",
       "</table>\n",
       "</div>"
      ],
      "text/plain": [
       "   calls  minutes  messages   mb_used  is_ultra\n",
       "0   40.0   311.90      83.0  19915.42         0\n",
       "1   85.0   516.75      56.0  22696.96         0\n",
       "2   77.0   467.66      86.0  21060.45         0\n",
       "3  106.0   745.53      81.0   8437.39         1\n",
       "4   66.0   418.74       1.0  14502.75         0"
      ]
     },
     "metadata": {},
     "output_type": "display_data"
    },
    {
     "data": {
      "text/html": [
       "<div>\n",
       "<style scoped>\n",
       "    .dataframe tbody tr th:only-of-type {\n",
       "        vertical-align: middle;\n",
       "    }\n",
       "\n",
       "    .dataframe tbody tr th {\n",
       "        vertical-align: top;\n",
       "    }\n",
       "\n",
       "    .dataframe thead th {\n",
       "        text-align: right;\n",
       "    }\n",
       "</style>\n",
       "<table border=\"1\" class=\"dataframe\">\n",
       "  <thead>\n",
       "    <tr style=\"text-align: right;\">\n",
       "      <th></th>\n",
       "      <th>calls</th>\n",
       "      <th>minutes</th>\n",
       "      <th>messages</th>\n",
       "      <th>mb_used</th>\n",
       "      <th>is_ultra</th>\n",
       "    </tr>\n",
       "  </thead>\n",
       "  <tbody>\n",
       "    <tr>\n",
       "      <th>count</th>\n",
       "      <td>3214.000000</td>\n",
       "      <td>3214.000000</td>\n",
       "      <td>3214.000000</td>\n",
       "      <td>3214.000000</td>\n",
       "      <td>3214.000000</td>\n",
       "    </tr>\n",
       "    <tr>\n",
       "      <th>mean</th>\n",
       "      <td>63.038892</td>\n",
       "      <td>438.208787</td>\n",
       "      <td>38.281269</td>\n",
       "      <td>17207.673836</td>\n",
       "      <td>0.306472</td>\n",
       "    </tr>\n",
       "    <tr>\n",
       "      <th>std</th>\n",
       "      <td>33.236368</td>\n",
       "      <td>234.569872</td>\n",
       "      <td>36.148326</td>\n",
       "      <td>7570.968246</td>\n",
       "      <td>0.461100</td>\n",
       "    </tr>\n",
       "    <tr>\n",
       "      <th>min</th>\n",
       "      <td>0.000000</td>\n",
       "      <td>0.000000</td>\n",
       "      <td>0.000000</td>\n",
       "      <td>0.000000</td>\n",
       "      <td>0.000000</td>\n",
       "    </tr>\n",
       "    <tr>\n",
       "      <th>25%</th>\n",
       "      <td>40.000000</td>\n",
       "      <td>274.575000</td>\n",
       "      <td>9.000000</td>\n",
       "      <td>12491.902500</td>\n",
       "      <td>0.000000</td>\n",
       "    </tr>\n",
       "    <tr>\n",
       "      <th>50%</th>\n",
       "      <td>62.000000</td>\n",
       "      <td>430.600000</td>\n",
       "      <td>30.000000</td>\n",
       "      <td>16943.235000</td>\n",
       "      <td>0.000000</td>\n",
       "    </tr>\n",
       "    <tr>\n",
       "      <th>75%</th>\n",
       "      <td>82.000000</td>\n",
       "      <td>571.927500</td>\n",
       "      <td>57.000000</td>\n",
       "      <td>21424.700000</td>\n",
       "      <td>1.000000</td>\n",
       "    </tr>\n",
       "    <tr>\n",
       "      <th>max</th>\n",
       "      <td>244.000000</td>\n",
       "      <td>1632.060000</td>\n",
       "      <td>224.000000</td>\n",
       "      <td>49745.730000</td>\n",
       "      <td>1.000000</td>\n",
       "    </tr>\n",
       "  </tbody>\n",
       "</table>\n",
       "</div>"
      ],
      "text/plain": [
       "             calls      minutes     messages       mb_used     is_ultra\n",
       "count  3214.000000  3214.000000  3214.000000   3214.000000  3214.000000\n",
       "mean     63.038892   438.208787    38.281269  17207.673836     0.306472\n",
       "std      33.236368   234.569872    36.148326   7570.968246     0.461100\n",
       "min       0.000000     0.000000     0.000000      0.000000     0.000000\n",
       "25%      40.000000   274.575000     9.000000  12491.902500     0.000000\n",
       "50%      62.000000   430.600000    30.000000  16943.235000     0.000000\n",
       "75%      82.000000   571.927500    57.000000  21424.700000     1.000000\n",
       "max     244.000000  1632.060000   224.000000  49745.730000     1.000000"
      ]
     },
     "execution_count": 3,
     "metadata": {},
     "output_type": "execute_result"
    }
   ],
   "source": [
    "df = pd.read_csv('users_behavior.csv', sep=',')\n",
    "\n",
    "print(df.info())\n",
    "\n",
    "display(df.head())\n",
    "\n",
    "df.describe()"
   ]
  },
  {
   "cell_type": "code",
   "execution_count": 4,
   "metadata": {
    "scrolled": true
   },
   "outputs": [
    {
     "data": {
      "text/plain": [
       "0    2229\n",
       "1     985\n",
       "Name: is_ultra, dtype: int64"
      ]
     },
     "execution_count": 4,
     "metadata": {},
     "output_type": "execute_result"
    }
   ],
   "source": [
    "df['is_ultra'].value_counts()"
   ]
  },
  {
   "cell_type": "markdown",
   "metadata": {},
   "source": [
    "*Из изучения датасета видим, что всего в нем 3214 строк и 5 столбцов. Пропущенные данные отсутствуют. Метод describe показал, что данные уже обработаны, выбросов практически нет, т.к. для всех 4-х параметров средние значения близки к медианным. На тарифе \"Ультра\" у нас 985 пользователей, остальные на \"Смарте\". По условиям задачи предобработка данных не требуется, можно переходить к разбиению данных на выборки.*"
   ]
  },
  {
   "cell_type": "markdown",
   "metadata": {},
   "source": [
    "## 3 Разбиение данных на выборки"
   ]
  },
  {
   "cell_type": "markdown",
   "metadata": {},
   "source": [
    "Всю нашу выборку надо разбить на обучающую, валидационную и тестовые выборки. Разобьем их в процентном соотношении 60/20/20. Для этого применим 2 раза метод train_test_split. В первой итерации отделим обучающую выборку от валидационной и тестовой, во второй разделим валидационную и тестовую."
   ]
  },
  {
   "cell_type": "code",
   "execution_count": 5,
   "metadata": {
    "scrolled": true
   },
   "outputs": [
    {
     "name": "stdout",
     "output_type": "stream",
     "text": [
      "(1928, 5)\n",
      "(643, 5)\n",
      "(643, 5)\n"
     ]
    }
   ],
   "source": [
    "df_train, df_valid_test = train_test_split(df, test_size=0.4, random_state=12345) # разделили выборки в пропорции 4 к 10\n",
    "df_valid, df_test = train_test_split(df_valid_test, test_size=0.5, random_state=12345) # разделили вал-ую и тестовую пополам\n",
    "\n",
    "# проверим получившиеся размеры выборок\n",
    "print(df_train.shape)\n",
    "print(df_valid.shape)\n",
    "print(df_test.shape)"
   ]
  },
  {
   "cell_type": "markdown",
   "metadata": {},
   "source": [
    "1928 / 3214 ≈ 60 %, 643 / 3214 ≈ 20 %. Разбиение проведено корректно. "
   ]
  },
  {
   "cell_type": "markdown",
   "metadata": {},
   "source": [
    "## 4 Исследование моделей машинного обучения"
   ]
  },
  {
   "cell_type": "markdown",
   "metadata": {},
   "source": [
    "Исследуем 3 модели машинного обучения для задачи классификации (решающее дерево, случайный лес и логистическая регрессия) и выберем лучшее для дальнейшей проверки на тестовой выборке. Перед переходом к примененю модели выделим обычные признаки и целевой признак обучающей и валидационной выборок."
   ]
  },
  {
   "cell_type": "code",
   "execution_count": 6,
   "metadata": {},
   "outputs": [],
   "source": [
    "train_features = df_train.drop(['is_ultra'], axis=1) # создаем признаки для обучающей выборки\n",
    "train_target = df_train['is_ultra'] # создаем целевой признак для обучающей выборки\n",
    "valid_features = df_valid.drop(['is_ultra'], axis=1) # создаем признаки для валидационной выборки\n",
    "valid_target = df_valid['is_ultra'] # создаем целевой признак для валидационной выборки"
   ]
  },
  {
   "cell_type": "markdown",
   "metadata": {
    "collapsed": true,
    "scrolled": true
   },
   "source": [
    "### 4.1 Решающее дерево"
   ]
  },
  {
   "cell_type": "code",
   "execution_count": 7,
   "metadata": {},
   "outputs": [
    {
     "name": "stdout",
     "output_type": "stream",
     "text": [
      "Наилучшее качество модели 0.785 при глубине дерева 3\n",
      "Wall time: 72 ms\n"
     ]
    }
   ],
   "source": [
    "%%time\n",
    "best_model = None\n",
    "best_result = 0\n",
    "best_depth = 0\n",
    "for depth in range(1, 10):\n",
    "    model = DecisionTreeClassifier(random_state=12345, max_depth=depth) # создаем модель с заданной глубиной дерева\n",
    "    model.fit(train_features, train_target) # обучаем модель на обучающей выборке\n",
    "    predictions = model.predict(valid_features) # получим предсказания модели на валидационной выборке\n",
    "    result = accuracy_score(valid_target, predictions) # посчитаем качество модели\n",
    "    if result > best_result:\n",
    "        best_model = model\n",
    "        best_result = result\n",
    "        best_depth = depth\n",
    "print('Наилучшее качество модели {:.3f} при глубине дерева {}'.format(best_result, best_depth))"
   ]
  },
  {
   "cell_type": "markdown",
   "metadata": {},
   "source": [
    "### 4.2 Случайный лес"
   ]
  },
  {
   "cell_type": "code",
   "execution_count": 8,
   "metadata": {},
   "outputs": [
    {
     "name": "stdout",
     "output_type": "stream",
     "text": [
      "Accuracy наилучшей модели на валидационной выборке: 0.8087091757387247 Количество деревьев: 40 Максимальная глубина: 8 Минимальное количество примеров для разделения 2\n",
      "Wall time: 5.78 s\n"
     ]
    }
   ],
   "source": [
    "%%time\n",
    "best_model = None\n",
    "best_result = 0\n",
    "best_est = 0\n",
    "best_depth = 0\n",
    "best_split = 0\n",
    "for est in range(10, 51, 10):\n",
    "    for depth in range (1, 9):\n",
    "        for spl in (2, 5):\n",
    "            model = RandomForestClassifier(random_state=12345, \n",
    "                                     n_estimators=est, \n",
    "                                     max_depth=depth, min_samples_split = spl) # инициализируем модель\n",
    "            model.fit(train_features, train_target) # обучим модель на тренировочной выборке\n",
    "            result = model.score(valid_features, valid_target) # посчитаем качество модели на валидационной выборке\n",
    "            if result > best_result:\n",
    "                best_model = model\n",
    "                best_result = result\n",
    "                best_est = est\n",
    "                best_depth = depth\n",
    "                best_split = spl\n",
    "\n",
    "print(\"Accuracy наилучшей модели на валидационной выборке:\", best_result, \n",
    "      \"Количество деревьев:\", best_est, \"Максимальная глубина:\", best_depth,\n",
    "     \"Минимальное количество примеров для разделения\", best_split)"
   ]
  },
  {
   "cell_type": "markdown",
   "metadata": {},
   "source": [
    "### 4.3 Логистическая регрессия"
   ]
  },
  {
   "cell_type": "code",
   "execution_count": 9,
   "metadata": {},
   "outputs": [
    {
     "name": "stdout",
     "output_type": "stream",
     "text": [
      "Accuracy модели логистической регрессии на валидационной выборке: 0.7107309486780715\n",
      "Wall time: 267 ms\n"
     ]
    }
   ],
   "source": [
    "%%time\n",
    "model = LogisticRegression(random_state=12345) # инициализируем модель логистической регрессии с параметром random_state=12345\n",
    "model.fit(train_features, train_target) # обучим модель на тренировочной выборке\n",
    "result = model.score(valid_features, valid_target) # получим метрику качества модели на валидационной выборке\n",
    "\n",
    "print(\"Accuracy модели логистической регрессии на валидационной выборке:\", result)"
   ]
  },
  {
   "cell_type": "markdown",
   "metadata": {},
   "source": [
    "Итак, мы видим, что наилучшее качество модели (0,809) на валидационной выборке получено при применении алгоритма \"Случайный лес\", чуть хуже у \"Решающего дерева\" - 0.785; и в конце списка \"Логистическая регрессия\" - 0.758. Проектом установлена метрика качества равная 0.75., значит любая модель может быть принята для проверки на тестовой выборке. Выберем модель с наилучшим качеством, т.е. \"случайный лес\" с определенными оптимальными параметрами: количество деревьев 40, глубина 7, минимальное количество примеров для разделения 2."
   ]
  },
  {
   "cell_type": "markdown",
   "metadata": {},
   "source": [
    "## 5 Проверка модели на тестовой выборке"
   ]
  },
  {
   "cell_type": "code",
   "execution_count": 10,
   "metadata": {},
   "outputs": [
    {
     "name": "stdout",
     "output_type": "stream",
     "text": [
      "Accuracy модели случайного леса на тестовой выборке: 0.80248833592535\n"
     ]
    }
   ],
   "source": [
    "test_features = df_test.drop(['is_ultra'], axis=1) # создаем признаки для тестовой выборки\n",
    "test_target = df_test['is_ultra'] # создаем целевой признак для тестовой выборки\n",
    "\n",
    "model_forest = RandomForestClassifier(random_state=12345, n_estimators=40, max_depth=7, min_samples_split = 2) # инициализируем модель\n",
    "model_forest.fit(train_features, train_target) # обучим модель на тренировочной выборке\n",
    "forest_test_result = model_forest.score(test_features, test_target) # посчитаем качество модели на тестовой выборке\n",
    "print(\"Accuracy модели случайного леса на тестовой выборке:\", forest_test_result)"
   ]
  },
  {
   "cell_type": "markdown",
   "metadata": {},
   "source": [
    "Получили достаточно высокое качество (0,803) на тестовой выборке, что подтверждает работоспособность выбранного алгоритма и его праметров."
   ]
  },
  {
   "cell_type": "markdown",
   "metadata": {},
   "source": [
    "## 6 Проверка модели на адекватность"
   ]
  },
  {
   "cell_type": "markdown",
   "metadata": {},
   "source": [
    "Параметр *Accuracy* обладает одним существенным недостатком, - его можно получить случайно. К примеру, если в выборке 950 отрицательных и 50 положительных объектов, то при абсолютно случайной классификации мы получим долю правильных ответов 0.95. Это означает, что доля положительных ответов сама по себе не несет никакой информации о качестве работы алгоритма, и вместе с ней следует анализировать и другие метрики. \n",
    "\n",
    "Перед переходом к самим метрикам необходимо ввести важную концепцию для описания этих метрик в терминах ошибок классификации — *confusion matrix* (матрица ошибок). \n",
    "- Если алгоритм предсказал \"1\" и это оказалось верно, то такое событие называют True Positive (верное положительное) или TP. \n",
    "- Если алгоритм предсказал \"1\" и это оказалось неверно, то такое событие называют False Positive (ложное положительное) или FP.\n",
    "- Если алгоритм предсказал \"0\" и это оказалось верно, то такое событие называют True Negative (верное отрицательное) или TN. \n",
    "- Если алгоритм предсказал \"0\" и это оказалось неверно, то такое событие называют False Negative (ложное отрицательное) или FN.\n",
    "\n",
    "Значение Accuracy в формате матрицы ошибок считается по следующей формуле:\n",
    "\n",
    "$$Accuracy = \\frac{TP+TN}{TP+TN+FP+FN}$$\n",
    "\n",
    "Как было сказано выше, метрика accuracy может быть бесполнезна в задачах с неравными классами. Для оценки качества работы алгоритма на каждом из классов по отдельности введем метрики *precision* (точность) и *recall* (полнота).\n",
    "\n",
    "$$Presision = \\frac{TP}{TP+FP}$$\n",
    "\n",
    "$$Recall = \\frac{TP}{TP+FN}$$\n",
    "\n",
    "Точность показывает, какая доля объектов, выделенных классификатором как положительные, действительно является положительными.\n",
    "\n",
    "Полнота показывает, какая часть положительных объектов была выделена классификатором.\n",
    "\n",
    "Для оценки взаимного влияния указаных метрик используется объединяющая их метрика - F-мера, которая является средним гармоническим precision и recall. F-мера вычисляется по формуле:\n",
    "\n",
    "$$F = (1+\\beta^2)*\\frac{presision*recall}{(\\beta^2*presision)+recall}$$\n",
    "\n",
    "$\\beta$ в данном случае определяет вес точности в метрике.\n",
    "\n",
    "F-мера достигает максимума при полноте и точности, равными единице, и близка к нулю, если один из аргументов близок к нулю.\n",
    "\n",
    "В sklearn есть удобная функция **_metrics.classificationreport**, возвращающая *recall*, *precision* и *F-меру* для каждого из классов, а также количество экземпляров каждого класса. Вызовем эту функцию для полученной модели."
   ]
  },
  {
   "cell_type": "code",
   "execution_count": 11,
   "metadata": {},
   "outputs": [
    {
     "name": "stdout",
     "output_type": "stream",
     "text": [
      "              precision    recall  f1-score   support\n",
      "\n",
      "       Smart       0.81      0.94      0.87       440\n",
      "       Ultra       0.79      0.51      0.62       203\n",
      "\n",
      "    accuracy                           0.80       643\n",
      "   macro avg       0.80      0.72      0.74       643\n",
      "weighted avg       0.80      0.80      0.79       643\n",
      "\n"
     ]
    }
   ],
   "source": [
    "from sklearn.metrics import classification_report # импортируем функцию отчета по классификации\n",
    "report = classification_report(test_target, model_forest.predict(test_features), target_names=['Smart', 'Ultra'])\n",
    "print(report)"
   ]
  },
  {
   "cell_type": "markdown",
   "metadata": {},
   "source": [
    "Итак, мы видим, что выбранная модель более адекватно производит предсказания класса \"0\", который соответствует тарифу \"Смарт\". Все 3 метрики для данного класса на достаточно хорошем уровне. Менее адекватно модель производит предсказания для класса \"1\", которые соответствует тарифу \"Ультра\". На снижение адекватности повлияла метрика recall, которая для данного класса приняла значение 0.51."
   ]
  },
  {
   "cell_type": "markdown",
   "metadata": {},
   "source": [
    "## 7 Общий вывод по проекту"
   ]
  },
  {
   "cell_type": "markdown",
   "metadata": {},
   "source": [
    "В ходе проверки трех различных алгоритмов машинного обучения для поставленной задачи классификации наилучшим оказался алгоритм \"случайный лес\" со следующими параметрами: количество деревьев 40, глубина 7, минимальное количество примеров для разделения 2. \n",
    "    \n",
    "Данный алгоритм позволил получить значительную долю верных ответов как на валидационной (0,805), так и на тестовой (0,803) выборках. Оценка адекватности примененной модели показала, что наиболее лучшим образом модель справляется с предсказанием данных класса \"0\" (*precision = 0.81, recall = 0.94, f1 = 0.87*) и хуже с предсказанием данных класса \"1\" (*precision = 0.79, recall = 0.51, f1 = 0.62*).\n",
    "    "
   ]
  }
 ],
 "metadata": {
  "kernelspec": {
   "display_name": "Python 3",
   "language": "python",
   "name": "python3"
  },
  "language_info": {
   "codemirror_mode": {
    "name": "ipython",
    "version": 3
   },
   "file_extension": ".py",
   "mimetype": "text/x-python",
   "name": "python",
   "nbconvert_exporter": "python",
   "pygments_lexer": "ipython3",
   "version": "3.8.5"
  },
  "toc": {
   "base_numbering": 1,
   "nav_menu": {},
   "number_sections": true,
   "sideBar": true,
   "skip_h1_title": true,
   "title_cell": "ОГЛАВЛЕНИЕ",
   "title_sidebar": "Contents",
   "toc_cell": true,
   "toc_position": {
    "height": "calc(100% - 180px)",
    "left": "10px",
    "top": "150px",
    "width": "289.6px"
   },
   "toc_section_display": true,
   "toc_window_display": false
  }
 },
 "nbformat": 4,
 "nbformat_minor": 2
}
